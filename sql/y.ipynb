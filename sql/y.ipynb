{
 "cells": [
  {
   "cell_type": "code",
   "execution_count": 16,
   "metadata": {},
   "outputs": [],
   "source": [
    "import langchain_community\n",
    "from langchain.chains import create_sql_query_chain\n",
    "from langchain_community.agent_toolkits import create_sql_agent\n",
    "from langchain_openai import ChatOpenAI\n",
    "from langchain_community.utilities.sql_database import SQLDatabase\n",
    "import pyodbc\n",
    "from langchain_community.agent_toolkits import SQLDatabaseToolkit\n",
    "from langchain_community.callbacks import get_openai_callback\n",
    "from langchain_community.agent_toolkits.sql.prompt import SQL_FUNCTIONS_SUFFIX\n",
    "from langchain_core.messages import AIMessage, SystemMessage\n",
    "from langchain_core.prompts.chat import (\n",
    "    ChatPromptTemplate,\n",
    "    HumanMessagePromptTemplate,\n",
    "    MessagesPlaceholder,\n",
    ")\n",
    "from langchain.agents import Tool, AgentType, initialize_agent\n",
    "from langchain.memory import ConversationBufferMemory\n",
    "import os"
   ]
  },
  {
   "cell_type": "code",
   "execution_count": 17,
   "metadata": {},
   "outputs": [],
   "source": [
    "# Replace these values with your actual SQL Server credentials\n",
    "server = 'LOCALHOST'\n",
    "database = 'REALESTATE'"
   ]
  },
  {
   "cell_type": "code",
   "execution_count": 18,
   "metadata": {},
   "outputs": [],
   "source": [
    "OPENAI_API_KEY = os.getenv(\"OPENAI_API_KEY\")\n",
    "#\"sk-proj-HlzQnTbGrHupQ5IIBTyyT3BlbkFJi2jOsF0cluhi8vseaMht\"\n",
    "# Create the connection string\n",
    "connection_string = f\"mssql+pyodbc://@{server}/{database}?driver=ODBC+Driver+17+for+SQL+Server\""
   ]
  },
  {
   "cell_type": "code",
   "execution_count": 19,
   "metadata": {},
   "outputs": [],
   "source": [
    "db = SQLDatabase.from_uri(connection_string)"
   ]
  },
  {
   "cell_type": "code",
   "execution_count": 20,
   "metadata": {},
   "outputs": [],
   "source": [
    "toolkit = SQLDatabaseToolkit(db=db, llm=ChatOpenAI(temperature=0,openai_api_key=OPENAI_API_KEY))\n",
    "context = toolkit.get_context()\n",
    "tools = toolkit.get_tools()"
   ]
  },
  {
   "cell_type": "code",
   "execution_count": 21,
   "metadata": {},
   "outputs": [
    {
     "data": {
      "text/plain": [
       "'Begin!\\n\\nQuestion: {input}\\nThought: I should look at the tables in the database to see what I can query.  Then I should query the schema of the most relevant tables.\\n{agent_scratchpad}'"
      ]
     },
     "execution_count": 21,
     "metadata": {},
     "output_type": "execute_result"
    }
   ],
   "source": [
    "langchain_community.agent_toolkits.sql.prompt.SQL_SUFFIX"
   ]
  },
  {
   "cell_type": "code",
   "execution_count": 22,
   "metadata": {},
   "outputs": [],
   "source": [
    "SQL_SUFFIX1=langchain_community.agent_toolkits.sql.prompt.SQL_SUFFIX= '''Begin!\n",
    "\n",
    "Question: {input}\n",
    "Previous chat history: {chat_history}\n",
    "Thought: If the question is general (e.g., introductions, greetings, or other non-database-related topics), respond using human interaction without querying the database.\n",
    "\n",
    "{agent_scratchpad}\n",
    "'''\n"
   ]
  },
  {
   "cell_type": "code",
   "execution_count": 23,
   "metadata": {},
   "outputs": [],
   "source": [
    "SQL_FUNCTIONS_SUFFIX1 = \"\"\"\n",
    "I need to perform the following steps to answer the user's query effectively and only use the SQL Server database system:\n",
    "I MUST NOT use the tool if I found the answer in the bervious chat {chat_history} just call it\n",
    "1. **Check if the Question is General**:\n",
    "    - Determine if the user's question is a general conversational input or a database-related query.\n",
    "    - If the question is general (e.g., introductions, greetings, or other non-database-related topics), respond conversationally without querying the database.\n",
    "          Example of general questions and responses:\n",
    "                - input: HumanMessage(content='my name is Samira')\n",
    "                output: AIMessage(content='Nice to meet you, Samira. How can I assist you today?')\n",
    "                - input: HumanMessage(content='How are you?')\n",
    "                output: AIMessage(content='I am an AI assistant, so I don't have feelings, but I'm here to help you!')\n",
    "\n",
    "2. **Paraphrase the Question for Clarity**:\n",
    "    - Rephrase the user's question to ensure clarity and accurately capture the intent.\n",
    "\n",
    "3. **Identify Relevant Tables**:\n",
    "    - Look at the tables in the database to identify which tables are relevant to the question.\n",
    "\n",
    "4. **Query the Schema**:\n",
    "    - Examine the schema of the relevant tables to understand their structure and relationships.\n",
    "\n",
    "5. **Determine the Need for Joins**:\n",
    "    - Assess whether the question requires combining data from multiple tables.\n",
    "    - If joins are necessary, identify the keys and relationships to use in the join.\n",
    "\n",
    "6. **Construct the SQL Query**:\n",
    "    - Write the SQL query using SQL Server syntax.\n",
    "    - Ensure the query includes joins if needed to gather data from multiple tables.\n",
    "\n",
    "7. **Format the Results**:\n",
    "    - Present the query results in a clear and understandable format for the user.\n",
    "    - After constructing the query, execute it on the SQL Server and present the output as the ANSWER.\n",
    "\n",
    "8. **Respond Appropriately**:\n",
    "    - If the user asks a general question, respond with a general answer (DON'T use the tool and DON'T make a query).\n",
    "    - If the user asks a database-related question, follow the steps above to query the database and provide an accurate response.\n",
    "\n",
    "Proceeding with these steps will ensure that I accurately understand and process the user's query, including handling joins and using the appropriate SQL Server syntax.\n",
    "\"\"\""
   ]
  },
  {
   "cell_type": "code",
   "execution_count": 24,
   "metadata": {},
   "outputs": [],
   "source": [
    "SQL_FUNCTIONS_SUFFIX1 = \"\"\"\n",
    "I MUST NOT use the tool if I found the answer in the bervious chat {chat_history} just call it\n",
    " - If the question is general (e.g., introductions, greetings, or other non-database-related topics), respond conversationally without querying the database.\n",
    "          Example of general questions and responses:\n",
    "                - input: HumanMessage(content='my name is Samira')\n",
    "                output: AIMessage(content='Nice to meet you, Samira. How can I assist you today?')\n",
    "                - input: HumanMessage(content='How are you?')\n",
    "                output: AIMessage(content='I am an AI assistant, so I don't have feelings, but I'm here to help you!')\n",
    "\n",
    "I accurately understand and process the user's query, including handling joins and using the appropriate SQL Server syntax.\n",
    "\"\"\"\n"
   ]
  },
  {
   "cell_type": "code",
   "execution_count": 25,
   "metadata": {},
   "outputs": [],
   "source": [
    "messages = [\n",
    "    HumanMessagePromptTemplate.from_template(\"{input}\"),\n",
    "    MessagesPlaceholder(variable_name=\"chat_history\"),\n",
    "    AIMessage(content=SQL_FUNCTIONS_SUFFIX1),\n",
    "    MessagesPlaceholder(variable_name=\"agent_scratchpad\"),\n",
    "]\n",
    "\n",
    "prompt = ChatPromptTemplate.from_messages(messages)\n",
    "prompt = prompt.partial(**context)"
   ]
  },
  {
   "cell_type": "code",
   "execution_count": 26,
   "metadata": {},
   "outputs": [
    {
     "data": {
      "text/plain": [
       "\"\\nI need to perform the following steps to answer the user's query effectively and only use sql server database system.:\\n\\n1. **Paraphrase the Question for Clarity**:\\n   - Rephrase the user's question to ensure clarity and capture the intent accurately.\\n   - if ask general question you respone general answer for example hi or how are you.\\n\\n2. **Identify Relevant Tables**:\\n   - Look at the tables in the database to identify which tables are relevant to the question.\\n\\n3. **Query the Schema**:\\n   - Examine the schema of the relevant tables to understand their structure and relationships.\\n\\n4. **Determine the Need for Joins**:\\n   - Assess whether the question requires combining data from multiple tables.\\n   - If joins are necessary, identify the keys and relationships to use in the join.\\n\\n5. **Construct the SQL Query**:\\n   - Write the SQL query using SQL Server syntax.\\n   - Ensure the query includes joins if needed to gather data from multiple tables.\\n\\n7. **Format the Results**:\\n   - Present the query results in a clear and understandable format for the user.after i got the query I should go to sql server to proceed the query the give the output as ANSWER.\\n\\nProceeding with these steps will ensure that I accurately understand and process the user's query, including handling joins and using the appropriate SQL Server syntax.\\n\""
      ]
     },
     "execution_count": 26,
     "metadata": {},
     "output_type": "execute_result"
    }
   ],
   "source": [
    " \"\"\"\n",
    "I need to perform the following steps to answer the user's query effectively and only use sql server database system.:\n",
    "\n",
    "1. **Paraphrase the Question for Clarity**:\n",
    "    - Rephrase the user's question to ensure clarity and capture the intent accurately.\n",
    "    - if ask general question you respone general answer for example hi or how are you.\n",
    "\n",
    "2. **Identify Relevant Tables**:\n",
    "    - Look at the tables in the database to identify which tables are relevant to the question.\n",
    "\n",
    "3. **Query the Schema**:\n",
    "    - Examine the schema of the relevant tables to understand their structure and relationships.\n",
    "\n",
    "4. **Determine the Need for Joins**:\n",
    "    - Assess whether the question requires combining data from multiple tables.\n",
    "    - If joins are necessary, identify the keys and relationships to use in the join.\n",
    "\n",
    "5. **Construct the SQL Query**:\n",
    "    - Write the SQL query using SQL Server syntax.\n",
    "    - Ensure the query includes joins if needed to gather data from multiple tables.\n",
    "\n",
    "7. **Format the Results**:\n",
    "    - Present the query results in a clear and understandable format for the user.after i got the query I should go to sql server to proceed the query the give the output as ANSWER.\n",
    "\n",
    "Proceeding with these steps will ensure that I accurately understand and process the user's query, including handling joins and using the appropriate SQL Server syntax.\n",
    "\"\"\""
   ]
  },
  {
   "cell_type": "code",
   "execution_count": 27,
   "metadata": {},
   "outputs": [
    {
     "data": {
      "text/plain": [
       "langchain_core.prompts.chat.MessagesPlaceholder"
      ]
     },
     "execution_count": 27,
     "metadata": {},
     "output_type": "execute_result"
    }
   ],
   "source": [
    "MessagesPlaceholder"
   ]
  },
  {
   "cell_type": "code",
   "execution_count": 28,
   "metadata": {},
   "outputs": [
    {
     "data": {
      "text/plain": [
       "[HumanMessagePromptTemplate(prompt=PromptTemplate(input_variables=['input'], template='{input}')),\n",
       " MessagesPlaceholder(variable_name='chat_history'),\n",
       " AIMessage(content=\"\\nI MUST NOT use the tool if I found the answer in the bervious chat {chat_history} just call it\\n - If the question is general (e.g., introductions, greetings, or other non-database-related topics), respond conversationally without querying the database.\\n          Example of general questions and responses:\\n                - input: HumanMessage(content='my name is Samira')\\n                output: AIMessage(content='Nice to meet you, Samira. How can I assist you today?')\\n                - input: HumanMessage(content='How are you?')\\n                output: AIMessage(content='I am an AI assistant, so I don't have feelings, but I'm here to help you!')\\n\\nI accurately understand and process the user's query, including handling joins and using the appropriate SQL Server syntax.\\n\"),\n",
       " MessagesPlaceholder(variable_name='agent_scratchpad')]"
      ]
     },
     "execution_count": 28,
     "metadata": {},
     "output_type": "execute_result"
    }
   ],
   "source": [
    "prompt.messages"
   ]
  },
  {
   "cell_type": "code",
   "execution_count": 29,
   "metadata": {},
   "outputs": [],
   "source": [
    "memory = ConversationBufferMemory(memory_key=\"chat_history\",return_messages=True)"
   ]
  },
  {
   "cell_type": "code",
   "execution_count": 30,
   "metadata": {},
   "outputs": [
    {
     "data": {
      "text/plain": [
       "{'chat_history': []}"
      ]
     },
     "execution_count": 30,
     "metadata": {},
     "output_type": "execute_result"
    }
   ],
   "source": [
    "memory.load_memory_variables({})"
   ]
  },
  {
   "cell_type": "code",
   "execution_count": 31,
   "metadata": {},
   "outputs": [
    {
     "name": "stdout",
     "output_type": "stream",
     "text": [
      "\n",
      "\n",
      "\u001b[1m> Entering new AgentExecutor chain...\u001b[0m\n",
      "\u001b[32;1m\u001b[1;3mNice to meet you! How can I assist you today?\u001b[0m\n",
      "\n",
      "\u001b[1m> Finished chain.\u001b[0m\n"
     ]
    },
    {
     "data": {
      "text/plain": [
       "{'input': 'what is my name?',\n",
       " 'chat_history': [HumanMessage(content='what is my name?'),\n",
       "  AIMessage(content='Nice to meet you! How can I assist you today?')],\n",
       " 'output': 'Nice to meet you! How can I assist you today?'}"
      ]
     },
     "execution_count": 31,
     "metadata": {},
     "output_type": "execute_result"
    }
   ],
   "source": [
    "from langchain.agents import create_openai_tools_agent , create_sql_agent\n",
    "from langchain.agents.agent import AgentExecutor\n",
    "from langchain.chains import ConversationChain\n",
    "\n",
    "\n",
    "llm = ChatOpenAI(model=\"gpt-3.5-turbo-0125\", temperature=0, openai_api_key=OPENAI_API_KEY)\n",
    "\n",
    "agent = create_openai_tools_agent(llm, tools, prompt)\n",
    "#gpt-3.5-turbo-0613\n",
    "\n",
    "agent_executor = AgentExecutor(\n",
    "    agent=agent,\n",
    "    tools=toolkit.get_tools(),\n",
    "    verbose=True,memory=memory)\n",
    "agent_executor.invoke({\"input\": \"what is my name?\"})\n",
    "#what is the tables do you have?\n",
    "#I WANT THE HIGHEST MONTHLY SALARY?\n",
    "#Calculates the total monthly salary and total current debts for each buyer.\n",
    "#Total Rental Income and Operating Expenses by Location\n",
    "#Properties with High Return on Investment"
   ]
  },
  {
   "cell_type": "code",
   "execution_count": 32,
   "metadata": {},
   "outputs": [
    {
     "ename": "AttributeError",
     "evalue": "'RunnableSequence' object has no attribute 'agent'",
     "output_type": "error",
     "traceback": [
      "\u001b[1;31m---------------------------------------------------------------------------\u001b[0m",
      "\u001b[1;31mAttributeError\u001b[0m                            Traceback (most recent call last)",
      "Cell \u001b[1;32mIn[32], line 1\u001b[0m\n\u001b[1;32m----> 1\u001b[0m \u001b[43magent\u001b[49m\u001b[38;5;241;43m.\u001b[39;49m\u001b[43magent\u001b[49m\u001b[38;5;241m.\u001b[39mllm_chain\u001b[38;5;241m.\u001b[39mprompt\u001b[38;5;241m.\u001b[39mtemplate\n",
      "\u001b[1;31mAttributeError\u001b[0m: 'RunnableSequence' object has no attribute 'agent'"
     ]
    }
   ],
   "source": [
    "agent.agent.llm_chain.prompt.template"
   ]
  },
  {
   "cell_type": "code",
   "execution_count": null,
   "metadata": {},
   "outputs": [
    {
     "data": {
      "text/plain": [
       "ChatPromptTemplate(input_variables=['agent_scratchpad', 'chat_history', 'input'], input_types={'agent_scratchpad': typing.List[typing.Union[langchain_core.messages.ai.AIMessage, langchain_core.messages.human.HumanMessage, langchain_core.messages.chat.ChatMessage, langchain_core.messages.system.SystemMessage, langchain_core.messages.function.FunctionMessage, langchain_core.messages.tool.ToolMessage]]}, partial_variables={'table_info': '\\nCREATE TABLE [Banking_Data] (\\n\\t[Property_ID] SMALLINT NOT NULL, \\n\\t[Property_Type] NVARCHAR(50) COLLATE SQL_Latin1_General_CP1_CI_AS NOT NULL, \\n\\t[Property_Address] NVARCHAR(50) COLLATE SQL_Latin1_General_CP1_CI_AS NOT NULL, \\n\\t[Property_Size] SMALLINT NOT NULL, \\n\\t[Square_Footage] SMALLINT NOT NULL, \\n\\t[Bedrooms] TINYINT NOT NULL, \\n\\t[Bathrooms] TINYINT NOT NULL, \\n\\t[Year_Built] SMALLINT NOT NULL, \\n\\t[Purchase_Price] INTEGER NOT NULL, \\n\\t[Sale_Price] INTEGER NOT NULL, \\n\\t[Rental_Income] SMALLINT NOT NULL, \\n\\t[Operating_Expenses] SMALLINT NOT NULL, \\n\\t[Market_Value] INTEGER NOT NULL, \\n\\t[Location] NVARCHAR(50) COLLATE SQL_Latin1_General_CP1_CI_AS NOT NULL, \\n\\t[Transaction_Date] DATE NOT NULL, \\n\\t[Property_Owner] NVARCHAR(50) COLLATE SQL_Latin1_General_CP1_CI_AS NOT NULL, \\n\\t[Lease_Start_Date] DATE NOT NULL, \\n\\t[Lease_End_Date] DATE NOT NULL, \\n\\t[Occupancy] NVARCHAR(50) COLLATE SQL_Latin1_General_CP1_CI_AS NOT NULL, \\n\\t[Buyer_Name] NVARCHAR(50) COLLATE SQL_Latin1_General_CP1_CI_AS NOT NULL, \\n\\t[Buyer_Address] NVARCHAR(50) COLLATE SQL_Latin1_General_CP1_CI_AS NOT NULL, \\n\\t[Financing_Type] NVARCHAR(50) COLLATE SQL_Latin1_General_CP1_CI_AS NOT NULL, \\n\\t[Mortgage_Amount] INTEGER NULL, \\n\\t[Interest_Rate] FLOAT(53) NULL, \\n\\t[Mortgage_Term] NVARCHAR(50) COLLATE SQL_Latin1_General_CP1_CI_AS NOT NULL, \\n\\t[Down_Payment] INTEGER NULL, \\n\\t[Buyer_Income] INTEGER NULL, \\n\\t[Employer_Name] NVARCHAR(50) COLLATE SQL_Latin1_General_CP1_CI_AS NOT NULL, \\n\\t[Employer_Address] NVARCHAR(50) COLLATE SQL_Latin1_General_CP1_CI_AS NOT NULL, \\n\\t[Employer_Phone] NVARCHAR(50) COLLATE SQL_Latin1_General_CP1_CI_AS NOT NULL, \\n\\t[Buyer_Job_Title] NVARCHAR(50) COLLATE SQL_Latin1_General_CP1_CI_AS NOT NULL, \\n\\t[Monthly_Salary] SMALLINT NULL, \\n\\t[Current_Debts] NVARCHAR(50) COLLATE SQL_Latin1_General_CP1_CI_AS NOT NULL, \\n\\t[Amount_Owed_In_Bank] SMALLINT NULL, \\n\\t[Interest_Rate_Current_Debt] FLOAT(53) NULL, \\n\\t[Monthly_Payment_Current_Debt] SMALLINT NULL, \\n\\t[Net_Cash_Flow] SMALLINT NULL, \\n\\t[Cash_On_Cash_Return] FLOAT(53) NULL, \\n\\t[Capitalization_Rate] FLOAT(53) NULL, \\n\\t[Gross_Rental_Yield] FLOAT(53) NULL, \\n\\t[Return_On_Investment] FLOAT(53) NULL, \\n\\tCONSTRAINT [PK_Banking_Data] PRIMARY KEY ([Property_ID]), \\n\\tCONSTRAINT [FK_Banking_Data] FOREIGN KEY([Property_ID]) REFERENCES [House_Price] (properity_id) ON DELETE CASCADE ON UPDATE CASCADE\\n)\\n\\n/*\\n3 rows from Banking_Data table:\\nProperty_ID\\tProperty_Type\\tProperty_Address\\tProperty_Size\\tSquare_Footage\\tBedrooms\\tBathrooms\\tYear_Built\\tPurchase_Price\\tSale_Price\\tRental_Income\\tOperating_Expenses\\tMarket_Value\\tLocation\\tTransaction_Date\\tProperty_Owner\\tLease_Start_Date\\tLease_End_Date\\tOccupancy\\tBuyer_Name\\tBuyer_Address\\tFinancing_Type\\tMortgage_Amount\\tInterest_Rate\\tMortgage_Term\\tDown_Payment\\tBuyer_Income\\tEmployer_Name\\tEmployer_Address\\tEmployer_Phone\\tBuyer_Job_Title\\tMonthly_Salary\\tCurrent_Debts\\tAmount_Owed_In_Bank\\tInterest_Rate_Current_Debt\\tMonthly_Payment_Current_Debt\\tNet_Cash_Flow\\tCash_On_Cash_Return\\tCapitalization_Rate\\tGross_Rental_Yield\\tReturn_On_Investment\\n1\\tResidential\\t123 Main St\\t5000\\t2000\\t3\\t2\\t2000\\t250000\\t320000\\t1500\\t500\\t270000\\tNew York\\t2023-01-15\\tJohn Smith\\t2023-02-01\\t2024-01-31\\tOccupied\\tSarah Johnson\\t456 Elm St\\tMortgage\\t200000\\t3.5\\t30 years\\t50000\\t80000\\tABC Corp\\t789 Oak St\\t555-123-4567\\tMarketing\\t6000\\tCredit Card\\t5000\\t0.15000000596046448\\t200\\t1000\\t0.07999999821186066\\t0.03999999910593033\\t0.7200000286102295\\t1.2799999713897705\\n2\\tCommercial\\t456 Oak Ave\\t10000\\t5000\\t0\\t2\\t1995\\t500000\\t0\\t3500\\t1000\\t600000\\tLos Angeles\\t2023-03-10\\tABC Corp\\t2022-12-01\\t2023-11-30\\tVacant\\tABC Corp\\tnull\\tCash\\tNone\\tNone\\tnull\\tNone\\tNone\\tnull\\tnull\\tnull\\tnull\\tNone\\tnull\\tNone\\tNone\\tNone\\tNone\\tNone\\tNone\\tNone\\tNone\\n3\\tResidential\\t789 Elm Rd\\t6000\\t2500\\t4\\t3\\t2010\\t300000\\t0\\t2000\\t700\\t350000\\tSan Francisco\\t2023-02-20\\tSusan Johnson\\t2023-03-15\\t2024-03-14\\tOccupied\\tMichael Davis\\t123 Oak St\\tMortgage\\t200000\\t3.5\\t30 years\\t50000\\t80000\\tnull\\tnull\\tnull\\tnull\\tNone\\tnull\\tNone\\tNone\\tNone\\tNone\\tNone\\tNone\\tNone\\tNone\\n*/\\n\\n\\nCREATE TABLE [House_Price] (\\n\\tproperity_id SMALLINT NOT NULL, \\n\\t[Total_Land_Size] SMALLINT NULL, \\n\\t[Groos_Area_of_unit] TINYINT NULL, \\n\\t[House_Age] TINYINT NULL, \\n\\t[Land_Value] INTEGER NULL, \\n\\t[Building_Type] TINYINT NULL, \\n\\t[Exist_elevator] TINYINT NULL, \\n\\t[Distance_from_Malls] TINYINT NULL, \\n\\t[Distance_to_road] TINYINT NULL, \\n\\t[Number_of_bedrooms] TINYINT NULL, \\n\\t[Number_of_bathrooms] TINYINT NULL, \\n\\t[Garage] TINYINT NULL, \\n\\t[Garden_Share] TINYINT NULL, \\n\\t[Level_of_Finishing] TINYINT NULL, \\n\\t[Preliminary_estimated_construction] SMALLINT NULL, \\n\\t[Duration_of_construction] TINYINT NULL, \\n\\t[Price_of_the_unit_at_the_beginning] SMALLINT NULL, \\n\\t[Population_Trends_in_the_city] TINYINT NULL, \\n\\t[Standard_Level_in_the_region] TINYINT NULL, \\n\\t[Quality_of_Schools] TINYINT NULL, \\n\\t[Quality_of_Services] TINYINT NULL, \\n\\t[Transportation] TINYINT NULL, \\n\\t[Interest_Rate] FLOAT(53) NULL, \\n\\t[Inflation_Rate] FLOAT(53) NULL, \\n\\t[Economic_climate] TINYINT NULL, \\n\\t[CPI] FLOAT(53) NULL, \\n\\t[Months_in_Market] TINYINT NULL, \\n\\t[Final_Price] INTEGER NULL, \\n\\tCONSTRAINT [PK_House_Price] PRIMARY KEY (properity_id)\\n)\\n\\n/*\\n3 rows from House_Price table:\\nproperity_id\\tTotal_Land_Size\\tGroos_Area_of_unit\\tHouse_Age\\tLand_Value\\tBuilding_Type\\tExist_elevator\\tDistance_from_Malls\\tDistance_to_road\\tNumber_of_bedrooms\\tNumber_of_bathrooms\\tGarage\\tGarden_Share\\tLevel_of_Finishing\\tPreliminary_estimated_construction\\tDuration_of_construction\\tPrice_of_the_unit_at_the_beginning\\tPopulation_Trends_in_the_city\\tStandard_Level_in_the_region\\tQuality_of_Schools\\tQuality_of_Services\\tTransportation\\tInterest_Rate\\tInflation_Rate\\tEconomic_climate\\tCPI\\tMonths_in_Market\\tFinal_Price\\n1\\t260\\t90\\t35\\t3500000\\t2\\t1\\t2\\t1\\t3\\t1\\t2\\t2\\t2\\t3700\\t14\\t5050\\t3\\t2\\t1\\t1\\t2\\t17.530000686645508\\t13.770000457763672\\t2\\t13.739999771118164\\t10\\t676500\\n2\\t200\\t90\\t20\\t2500000\\t1\\t2\\t2\\t2\\t2\\t1\\t1\\t1\\t2\\t3500\\t14\\t4800\\t3\\t2\\t2\\t2\\t2\\t17.5\\t14.566666603088379\\t2\\t14.572999954223633\\t8\\t631500\\n3\\t250\\t110\\t18\\t4500000\\t2\\t2\\t2\\t2\\t3\\t2\\t1\\t1\\t2\\t3150\\t14\\t4600\\t3\\t2\\t2\\t2\\t2\\t19.700000762939453\\t26.233333587646484\\t2\\t26.233333587646484\\t4\\t722000\\n*/', 'table_names': 'Banking_Data, House_Price'}, messages=[HumanMessagePromptTemplate(prompt=PromptTemplate(input_variables=['agent_scratchpad', 'chat_history', 'input'], template='Begin!\\n\\nQuestion: {input}\\nPrevious chat history: {chat_history}\\nThought: I should look at the tables in the database to see what I can query.  Then I should query the schema of the most relevant tables. I MUST NOT use the tool if I found the answer in the bervious chat {chat_history} just call it.\\nIf the question is general (e.g., introductions, greetings, or other non-database-related topics), respond conversationally without querying the database.\\n\\n{agent_scratchpad}\\n')), AIMessage(content=\" I MUST NOT use the tool if I found the answer in the bervious chat {chat_history} just call it.\\n\\nI need to perform the following steps to answer the user's query effectively and only use sql server database system.:\\n1. **Paraphrase the Question for Clarity**:\\n    - Rephrase the user's question to ensure clarity and capture the intent accurately.\\n\\n2. **Identify Relevant Tables**:\\n    - Look at the tables in the database to identify which tables are relevant to the question.\\n\\n3. **Query the Schema**:\\n    - Examine the schema of the relevant tables to understand their structure and relationships.\\n\\n4. **Determine the Need for Joins**:\\n    - Assess whether the question requires combining data from multiple tables.\\n    - If joins are necessary, identify the keys and relationships to use in the join.\\n\\n5. **Construct the SQL Query**:\\n    - Write the SQL query using SQL Server syntax.\\n    - Ensure the query includes joins if needed to gather data from multiple tables.\\n\\n7. **Format the Results**:\\n    - Present the query results in a clear and understandable format for the user.after i got the query I should go to sql server to proceed the query the give the output as ANSWER.\\n    \\n\\nProceeding with these steps will ensure that I accurately understand and process the user's query, including handling joins and using the appropriate SQL Server syntax.\\n\"), MessagesPlaceholder(variable_name='agent_scratchpad')])"
      ]
     },
     "execution_count": 112,
     "metadata": {},
     "output_type": "execute_result"
    }
   ],
   "source": [
    "prompt"
   ]
  },
  {
   "cell_type": "code",
   "execution_count": null,
   "metadata": {},
   "outputs": [],
   "source": [
    "from langchain.memory import ChatMessageHistory\n",
    "#memory = ChatMessageHistory(session_id=\"test-session\")"
   ]
  },
  {
   "cell_type": "code",
   "execution_count": null,
   "metadata": {},
   "outputs": [
    {
     "ename": "AttributeError",
     "evalue": "'RunnableSequence' object has no attribute 'run'",
     "output_type": "error",
     "traceback": [
      "\u001b[1;31m---------------------------------------------------------------------------\u001b[0m",
      "\u001b[1;31mAttributeError\u001b[0m                            Traceback (most recent call last)",
      "Cell \u001b[1;32mIn[21], line 1\u001b[0m\n\u001b[1;32m----> 1\u001b[0m \u001b[43magent\u001b[49m\u001b[38;5;241;43m.\u001b[39;49m\u001b[43mrun\u001b[49m(\u001b[38;5;124m\"\u001b[39m\u001b[38;5;124mMean Final Prices of New York Location with 3 Bedrooms\u001b[39m\u001b[38;5;124m\"\u001b[39m)\n",
      "\u001b[1;31mAttributeError\u001b[0m: 'RunnableSequence' object has no attribute 'run'"
     ]
    }
   ],
   "source": [
    "agent.run(\"Mean Final Prices of New York Location with 3 Bedrooms\")"
   ]
  },
  {
   "cell_type": "code",
   "execution_count": null,
   "metadata": {},
   "outputs": [
    {
     "data": {
      "text/plain": [
       "'from langchain_core.runnables.history import RunnableWithMessageHistory\\nagent_with_chat_history = RunnableWithMessageHistory(\\n    agent_executor,\\n    # This is needed because in most real world scenarios, a session id is needed\\n    # It isn\\'t really used here because we are using a simple in memory ChatMessageHistory\\n    lambda session_id: memory,\\n    input_messages_key=\"input\",\\n    history_messages_key=\"chat_history\",\\n)'"
      ]
     },
     "execution_count": 85,
     "metadata": {},
     "output_type": "execute_result"
    }
   ],
   "source": [
    "\"\"\"from langchain_core.runnables.history import RunnableWithMessageHistory\n",
    "agent_with_chat_history = RunnableWithMessageHistory(\n",
    "    agent_executor,\n",
    "    # This is needed because in most real world scenarios, a session id is needed\n",
    "    # It isn't really used here because we are using a simple in memory ChatMessageHistory\n",
    "    lambda session_id: memory,\n",
    "    input_messages_key=\"input\",\n",
    "    history_messages_key=\"chat_history\",\n",
    ")\"\"\""
   ]
  },
  {
   "cell_type": "code",
   "execution_count": null,
   "metadata": {},
   "outputs": [
    {
     "data": {
      "text/plain": [
       "'agent_with_chat_history.invoke(\\n    {\"input\": \"Total Rental Income and Operating Expenses by Location use chat history to answer\"},\\n    config={\"configurable\": {\"session_id\": \"<foo>\"}},\\n)'"
      ]
     },
     "execution_count": 86,
     "metadata": {},
     "output_type": "execute_result"
    }
   ],
   "source": [
    "\"\"\"agent_with_chat_history.invoke(\n",
    "    {\"input\": \"Total Rental Income and Operating Expenses by Location use chat history to answer\"},\n",
    "    config={\"configurable\": {\"session_id\": \"<foo>\"}},\n",
    ")\"\"\""
   ]
  },
  {
   "cell_type": "code",
   "execution_count": null,
   "metadata": {},
   "outputs": [],
   "source": [
    "\n",
    "#Assessing Buyer Financial Health\n",
    "#I WANT THE HIGHEST MONTHLY SALARY?\n",
    "#Calculates the total monthly salary and total current debts for each buyer.\n",
    "#Total Rental Income and Operating Expenses by Location\n",
    "#Properties with High Return on Investment"
   ]
  }
 ],
 "metadata": {
  "kernelspec": {
   "display_name": "Python 3",
   "language": "python",
   "name": "python3"
  },
  "language_info": {
   "codemirror_mode": {
    "name": "ipython",
    "version": 3
   },
   "file_extension": ".py",
   "mimetype": "text/x-python",
   "name": "python",
   "nbconvert_exporter": "python",
   "pygments_lexer": "ipython3",
   "version": "3.10.0"
  }
 },
 "nbformat": 4,
 "nbformat_minor": 2
}
