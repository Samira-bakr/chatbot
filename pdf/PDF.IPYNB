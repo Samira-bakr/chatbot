{
 "cells": [
  {
   "cell_type": "code",
   "execution_count": 17,
   "metadata": {},
   "outputs": [],
   "source": [
    "from langchain_community.document_loaders import PyPDFLoader\n",
    "from langchain_text_splitters import RecursiveCharacterTextSplitter,CharacterTextSplitter\n",
    "\n",
    "loader = PyPDFLoader(\"D:\\\\chat\\\\pdf\\\\Inventory and Marketing.pdf\")\n",
    "pages = loader.load_and_split()"
   ]
  },
  {
   "cell_type": "code",
   "execution_count": 18,
   "metadata": {},
   "outputs": [
    {
     "data": {
      "text/plain": [
       "[Document(page_content=\"Inventory and Marketing  Management  using AI \\nDeadline:  \\n 28/5/2024  \\nINVENTORY Management:  \\n• Products Demand Forecasting  \\no Help the company \\\\shop to determine its needs from each product based on \\nseasonality trends, demand, and market research either by manufacturing or buying \\nit to maximize its profit .  \\n• Supply Chain Optimization : \\no It optimizes supply networks by fine -tuning shipping routes, warehouse placements, \\nstock movements, and other variables, resulting in lower costs.it can determine \\nthe optimal routes, warehousing locations . It offers adaptable order methods based \\non real -time data, ensuring a seamless transition from manufacturers to customers.  \\n• Dynamic Products Pricing  \\no Based on previous  purchases and demand for the products it can determine the best \\nprice for each product.  \\nMarketing : \\n• Customer Emotions  Analysis : \\no track the social media feedback on the products and brand if it is positive or \\nnegative.  \\n• Social Media C ontent and Advertisement G eneration:  \\no generating blogs for blog and posts on social media based on previous media post,  \\nprevious post  customer’s  interactions and the competitors posts.  \\n• Marketing Designs Generation:  \\no generate images specified for the company to use in marketing or upcoming post.  \\nCustomer:  \\n• Customer Churn Prediction:  \\no Predict which customers will likely stop purchasing from the company  and their \\nnumbers.  Based on previous consumers' decision to  stop  purchas ing from the brand, \\nas well as customer feedback, the corporation can assess whether a critical decision \\nmust be made.  \\n•  Customer Personalized Experience:  \\no Personalize the customer’s  experience based on their previous purchases and  by \\ntrack ing his shopping behavior.\", metadata={'source': 'D:\\\\chat\\\\pdf\\\\Inventory and Marketing.pdf', 'page': 0})]"
      ]
     },
     "execution_count": 18,
     "metadata": {},
     "output_type": "execute_result"
    }
   ],
   "source": [
    "pages"
   ]
  },
  {
   "cell_type": "code",
   "execution_count": 19,
   "metadata": {},
   "outputs": [],
   "source": [
    "# Extract text from the PDF\n",
    "extracted_text = ''\n",
    "for page in pages:\n",
    "    extracted_text += page.page_content"
   ]
  },
  {
   "cell_type": "code",
   "execution_count": 20,
   "metadata": {},
   "outputs": [
    {
     "data": {
      "text/plain": [
       "\"Inventory and Marketing  Management  using AI \\nDeadline:  \\n 28/5/2024  \\nINVENTORY Management:  \\n• Products Demand Forecasting  \\no Help the company \\\\shop to determine its needs from each product based on \\nseasonality trends, demand, and market research either by manufacturing or buying \\nit to maximize its profit .  \\n• Supply Chain Optimization : \\no It optimizes supply networks by fine -tuning shipping routes, warehouse placements, \\nstock movements, and other variables, resulting in lower costs.it can determine \\nthe optimal routes, warehousing locations . It offers adaptable order methods based \\non real -time data, ensuring a seamless transition from manufacturers to customers.  \\n• Dynamic Products Pricing  \\no Based on previous  purchases and demand for the products it can determine the best \\nprice for each product.  \\nMarketing : \\n• Customer Emotions  Analysis : \\no track the social media feedback on the products and brand if it is positive or \\nnegative.  \\n• Social Media C ontent and Advertisement G eneration:  \\no generating blogs for blog and posts on social media based on previous media post,  \\nprevious post  customer’s  interactions and the competitors posts.  \\n• Marketing Designs Generation:  \\no generate images specified for the company to use in marketing or upcoming post.  \\nCustomer:  \\n• Customer Churn Prediction:  \\no Predict which customers will likely stop purchasing from the company  and their \\nnumbers.  Based on previous consumers' decision to  stop  purchas ing from the brand, \\nas well as customer feedback, the corporation can assess whether a critical decision \\nmust be made.  \\n•  Customer Personalized Experience:  \\no Personalize the customer’s  experience based on their previous purchases and  by \\ntrack ing his shopping behavior.\""
      ]
     },
     "execution_count": 20,
     "metadata": {},
     "output_type": "execute_result"
    }
   ],
   "source": [
    "extracted_text"
   ]
  },
  {
   "cell_type": "code",
   "execution_count": 21,
   "metadata": {},
   "outputs": [],
   "source": [
    "#text_splitter = CharacterTextSplitter(\n",
    "    # Set a really small chunk size, just to show.\n",
    "#    chunk_size=1000)\n"
   ]
  },
  {
   "cell_type": "code",
   "execution_count": 22,
   "metadata": {},
   "outputs": [],
   "source": [
    "#texts = text_splitter.create_documents(extracted_text)\n",
    "#print(texts)"
   ]
  },
  {
   "cell_type": "code",
   "execution_count": 23,
   "metadata": {},
   "outputs": [],
   "source": [
    "import os\n",
    "import getpass\n",
    "\n",
    "OPENAI_API_KEY = \"sk-proj-HlzQnTbGrHupQ5IIBTyyT3BlbkFJi2jOsF0cluhi8vseaMht\"\n",
    "#\"sk-proj-HlzQnTbGrHupQ5IIBTyyT3BlbkFJi2jOsF0cluhi8vseaMht\""
   ]
  },
  {
   "cell_type": "code",
   "execution_count": 25,
   "metadata": {},
   "outputs": [
    {
     "ename": "ValidationError",
     "evalue": "1 validation error for OpenAIEmbeddings\n__root__\n  Did not find openai_api_key, please add an environment variable `OPENAI_API_KEY` which contains it, or pass `openai_api_key` as a named parameter. (type=value_error)",
     "output_type": "error",
     "traceback": [
      "\u001b[1;31m---------------------------------------------------------------------------\u001b[0m",
      "\u001b[1;31mValidationError\u001b[0m                           Traceback (most recent call last)",
      "Cell \u001b[1;32mIn[25], line 5\u001b[0m\n\u001b[0;32m      3\u001b[0m \u001b[38;5;28;01mfrom\u001b[39;00m \u001b[38;5;21;01mlangchain\u001b[39;00m\u001b[38;5;21;01m.\u001b[39;00m\u001b[38;5;21;01mchains\u001b[39;00m\u001b[38;5;21;01m.\u001b[39;00m\u001b[38;5;21;01mquestion_answering\u001b[39;00m \u001b[38;5;28;01mimport\u001b[39;00m load_qa_chain\n\u001b[0;32m      4\u001b[0m \u001b[38;5;28;01mfrom\u001b[39;00m \u001b[38;5;21;01mlangchain\u001b[39;00m\u001b[38;5;21;01m.\u001b[39;00m\u001b[38;5;21;01mllms\u001b[39;00m \u001b[38;5;28;01mimport\u001b[39;00m OpenAI\n\u001b[1;32m----> 5\u001b[0m docsearch \u001b[38;5;241m=\u001b[39m FAISS\u001b[38;5;241m.\u001b[39mfrom_documents(pages, \u001b[43mOpenAIEmbeddings\u001b[49m\u001b[43m(\u001b[49m\u001b[43m)\u001b[49m)\n",
      "File \u001b[1;32mc:\\Users\\samira.khalaf\\AppData\\Local\\Programs\\Python\\Python310\\lib\\site-packages\\pydantic\\v1\\main.py:341\u001b[0m, in \u001b[0;36mBaseModel.__init__\u001b[1;34m(__pydantic_self__, **data)\u001b[0m\n\u001b[0;32m    339\u001b[0m values, fields_set, validation_error \u001b[38;5;241m=\u001b[39m validate_model(__pydantic_self__\u001b[38;5;241m.\u001b[39m\u001b[38;5;18m__class__\u001b[39m, data)\n\u001b[0;32m    340\u001b[0m \u001b[38;5;28;01mif\u001b[39;00m validation_error:\n\u001b[1;32m--> 341\u001b[0m     \u001b[38;5;28;01mraise\u001b[39;00m validation_error\n\u001b[0;32m    342\u001b[0m \u001b[38;5;28;01mtry\u001b[39;00m:\n\u001b[0;32m    343\u001b[0m     object_setattr(__pydantic_self__, \u001b[38;5;124m'\u001b[39m\u001b[38;5;124m__dict__\u001b[39m\u001b[38;5;124m'\u001b[39m, values)\n",
      "\u001b[1;31mValidationError\u001b[0m: 1 validation error for OpenAIEmbeddings\n__root__\n  Did not find openai_api_key, please add an environment variable `OPENAI_API_KEY` which contains it, or pass `openai_api_key` as a named parameter. (type=value_error)"
     ]
    }
   ],
   "source": [
    "from langchain_community.vectorstores import FAISS\n",
    "from langchain_openai import OpenAIEmbeddings\n",
    "from langchain.chains.question_answering import load_qa_chain\n",
    "from langchain.llms import OpenAI\n",
    "docsearch = FAISS.from_documents(pages, OpenAIEmbeddings())"
   ]
  },
  {
   "cell_type": "code",
   "execution_count": null,
   "metadata": {},
   "outputs": [
    {
     "ename": "",
     "evalue": "",
     "output_type": "error",
     "traceback": [
      "\u001b[1;31mRunning cells with '.venv (Python 3.10.0)' requires the ipykernel package.\n",
      "\u001b[1;31mRun the following command to install 'ipykernel' into the Python environment. \n",
      "\u001b[1;31mCommand: 'd:/chat/.venv/Scripts/python.exe -m pip install ipykernel -U --force-reinstall'"
     ]
    }
   ],
   "source": [
    "chain = load_qa_chain(OpenAI(), chain_type=\"stuff\")"
   ]
  },
  {
   "cell_type": "code",
   "execution_count": null,
   "metadata": {},
   "outputs": [
    {
     "ename": "",
     "evalue": "",
     "output_type": "error",
     "traceback": [
      "\u001b[1;31mRunning cells with '.venv (Python 3.10.0)' requires the ipykernel package.\n",
      "\u001b[1;31mRun the following command to install 'ipykernel' into the Python environment. \n",
      "\u001b[1;31mCommand: 'd:/chat/.venv/Scripts/python.exe -m pip install ipykernel -U --force-reinstall'"
     ]
    }
   ],
   "source": [
    "query = (\"list the main use cases for the real estate?\")\n",
    "docs = docsearch.similarity_search(query)\n",
    "chain.run(input_documents=docs, question=query)"
   ]
  }
 ],
 "metadata": {
  "kernelspec": {
   "display_name": "Python 3",
   "language": "python",
   "name": "python3"
  },
  "language_info": {
   "codemirror_mode": {
    "name": "ipython",
    "version": 3
   },
   "file_extension": ".py",
   "mimetype": "text/x-python",
   "name": "python",
   "nbconvert_exporter": "python",
   "pygments_lexer": "ipython3",
   "version": "3.10.0"
  }
 },
 "nbformat": 4,
 "nbformat_minor": 2
}
