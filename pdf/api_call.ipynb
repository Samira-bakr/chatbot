{
 "cells": [
  {
   "cell_type": "code",
   "execution_count": 1,
   "metadata": {},
   "outputs": [],
   "source": [
    "from flask import Flask, request,jsonify,render_template\n",
    "from flask_socketio import SocketIO,emit, send\n",
    "from flask_cors import CORS\n",
    "import nbimporter\n",
    "  # Import the source notebook as a module\n",
    "import sql_query"
   ]
  },
  {
   "cell_type": "code",
   "execution_count": 6,
   "metadata": {},
   "outputs": [],
   "source": []
  },
  {
   "cell_type": "code",
   "execution_count": 2,
   "metadata": {},
   "outputs": [],
   "source": [
    "app = Flask(__name__)\n",
    "app.config['SECRET_KEY'] = '38E1B554C835C52FB5693978F55FA'\n",
    "CORS(app, resources={r\"/*\": {\"origins\": \"*\"}})\n",
    "socketio = SocketIO(app, cors_allowed_origins=\"*\")"
   ]
  },
  {
   "cell_type": "code",
   "execution_count": 3,
   "metadata": {},
   "outputs": [],
   "source": [
    "@app.route('/')\n",
    "def index():\n",
    "    return render_template('index.html')\n",
    "\n",
    "@socketio.on(\"connect\")\n",
    "def connected():\n",
    "    \"\"\"event listener when client connects to the server\"\"\"\n",
    "    print(\"client has connected\")\n",
    "    # emit(\"connect\",{\"data\":f\"id: {request.sid} is connected\"})"
   ]
  },
  {
   "cell_type": "code",
   "execution_count": 4,
   "metadata": {},
   "outputs": [],
   "source": [
    "\n",
    "@socketio.on('Question')\n",
    "def handle_message(msg):\n",
    "    print('Msg arrived to backend with the following content',msg)\n",
    "    print(msg['message'])\n",
    "    # After receiving a message, immediately send 'hi' to all clients\n",
    "    output = sql_query.agent_execute(msg['message'])\n",
    "        \n",
    "    emit('Answer',output)\n",
    "    "
   ]
  },
  {
   "cell_type": "code",
   "execution_count": 5,
   "metadata": {},
   "outputs": [
    {
     "name": "stderr",
     "output_type": "stream",
     "text": [
      "Werkzeug appears to be used in a production deployment. Consider switching to a production web server instead.\n"
     ]
    },
    {
     "name": "stdout",
     "output_type": "stream",
     "text": [
      " * Serving Flask app '__main__'\n",
      " * Debug mode: off\n"
     ]
    },
    {
     "name": "stderr",
     "output_type": "stream",
     "text": [
      "WARNING: This is a development server. Do not use it in a production deployment. Use a production WSGI server instead.\n",
      " * Running on all addresses (0.0.0.0)\n",
      " * Running on http://127.0.0.1:5000\n",
      " * Running on http://192.168.100.22:5000\n",
      "Press CTRL+C to quit\n",
      "127.0.0.1 - - [03/Jul/2024 00:42:30] \"GET /socket.io/?EIO=4&transport=polling&t=P1rPZ0z HTTP/1.1\" 200 -\n",
      "127.0.0.1 - - [03/Jul/2024 00:42:30] \"GET /socket.io/?EIO=4&transport=polling&t=P1rPZGb HTTP/1.1\" 200 -\n",
      "127.0.0.1 - - [03/Jul/2024 00:42:31] \"POST /socket.io/?EIO=4&transport=polling&t=P1rPZLF&sid=EwMbpaRmfunfcsz9AAAA HTTP/1.1\" 200 -\n",
      "127.0.0.1 - - [03/Jul/2024 00:42:31] \"GET /socket.io/?EIO=4&transport=polling&t=P1rPZLH&sid=EwMbpaRmfunfcsz9AAAA HTTP/1.1\" 200 -\n",
      "127.0.0.1 - - [03/Jul/2024 00:42:31] \"POST /socket.io/?EIO=4&transport=polling&t=P1rPZLn&sid=uEn7xxPlAoJ6eqRkAAAB HTTP/1.1\" 200 -\n",
      "127.0.0.1 - - [03/Jul/2024 00:42:31] \"GET /socket.io/?EIO=4&transport=polling&t=P1rPZLr&sid=uEn7xxPlAoJ6eqRkAAAB HTTP/1.1\" 200 -\n"
     ]
    },
    {
     "name": "stdout",
     "output_type": "stream",
     "text": [
      "client has connected\n",
      "client has connected\n"
     ]
    },
    {
     "name": "stderr",
     "output_type": "stream",
     "text": [
      "127.0.0.1 - - [03/Jul/2024 00:42:39] \"GET / HTTP/1.1\" 200 -\n",
      "127.0.0.1 - - [03/Jul/2024 00:42:39] \"GET /socket.io/?EIO=4&transport=polling&t=P1rPbNi HTTP/1.1\" 200 -\n",
      "127.0.0.1 - - [03/Jul/2024 00:42:39] \"POST /socket.io/?EIO=4&transport=polling&t=P1rPbOi&sid=UES-P8c7DDNzmJWcAAAE HTTP/1.1\" 200 -\n",
      "127.0.0.1 - - [03/Jul/2024 00:42:39] \"GET /socket.io/?EIO=4&transport=polling&t=P1rPbOr&sid=UES-P8c7DDNzmJWcAAAE HTTP/1.1\" 200 -\n",
      "127.0.0.1 - - [03/Jul/2024 00:42:39] \"GET /socket.io/?EIO=4&transport=polling&t=P1rPbQH&sid=UES-P8c7DDNzmJWcAAAE HTTP/1.1\" 200 -\n"
     ]
    },
    {
     "name": "stdout",
     "output_type": "stream",
     "text": [
      "client has connected\n"
     ]
    },
    {
     "name": "stderr",
     "output_type": "stream",
     "text": [
      "Exception in thread Thread-29 (_handle_event_internal):\n",
      "Traceback (most recent call last):\n",
      "  File \"c:\\Users\\samira.khalaf\\AppData\\Local\\Programs\\Python\\Python310\\lib\\threading.py\", line 1009, in _bootstrap_inner\n",
      "    self.run()\n",
      "  File \"C:\\Users\\samira.khalaf\\AppData\\Roaming\\Python\\Python310\\site-packages\\ipykernel\\ipkernel.py\", line 766, in run_closure\n",
      "    _threading_Thread_run(self)\n",
      "  File \"c:\\Users\\samira.khalaf\\AppData\\Local\\Programs\\Python\\Python310\\lib\\threading.py\", line 946, in run\n",
      "    self._target(*self._args, **self._kwargs)\n",
      "  File \"c:\\Users\\samira.khalaf\\AppData\\Local\\Programs\\Python\\Python310\\lib\\site-packages\\socketio\\server.py\", line 589, in _handle_event_internal\n",
      "    r = server._trigger_event(data[0], namespace, sid, *data[1:])\n",
      "  File \"c:\\Users\\samira.khalaf\\AppData\\Local\\Programs\\Python\\Python310\\lib\\site-packages\\socketio\\server.py\", line 614, in _trigger_event\n",
      "    return handler(*args)\n",
      "  File \"c:\\Users\\samira.khalaf\\AppData\\Local\\Programs\\Python\\Python310\\lib\\site-packages\\flask_socketio\\__init__.py\", line 282, in _handler\n",
      "    return self._handle_event(handler, message, namespace, sid,\n",
      "  File \"c:\\Users\\samira.khalaf\\AppData\\Local\\Programs\\Python\\Python310\\lib\\site-packages\\flask_socketio\\__init__.py\", line 827, in _handle_event\n",
      "    ret = handler(*args)\n",
      "  File \"C:\\Users\\samira.khalaf\\AppData\\Local\\Temp\\ipykernel_23668\\882837895.py\", line 6, in handle_message\n",
      "AttributeError: module 'y' has no attribute 'agent_execute'. Did you mean: 'AgentExecutor'?\n"
     ]
    },
    {
     "name": "stdout",
     "output_type": "stream",
     "text": [
      "Msg arrived to backend with the following content {'message': 'hi'}\n",
      "hi\n"
     ]
    }
   ],
   "source": [
    "import sys\n",
    "@socketio.on(\"disconnect\")\n",
    "def disconnected():\n",
    "    \"\"\"event listener when client disconnects to the server\"\"\"\n",
    "    print(\"user disconnected\")\n",
    "    # emit(\"disconnect\",broadcast=True)\n",
    "\n",
    "if __name__ == '__main__':\n",
    "    try:\n",
    "        socketio.run(app, debug=False, allow_unsafe_werkzeug=True, host=\"0.0.0.0\", port=5000)\n",
    "    except Exception as e:\n",
    "        print(f\"Error: {e}\")\n",
    "        import traceback\n",
    "        traceback.print_exc()\n",
    "        sys.exit(1)"
   ]
  },
  {
   "cell_type": "code",
   "execution_count": null,
   "metadata": {},
   "outputs": [],
   "source": []
  }
 ],
 "metadata": {
  "kernelspec": {
   "display_name": "Python 3",
   "language": "python",
   "name": "python3"
  },
  "language_info": {
   "codemirror_mode": {
    "name": "ipython",
    "version": 3
   },
   "file_extension": ".py",
   "mimetype": "text/x-python",
   "name": "python",
   "nbconvert_exporter": "python",
   "pygments_lexer": "ipython3",
   "version": "3.10.0"
  }
 },
 "nbformat": 4,
 "nbformat_minor": 2
}
